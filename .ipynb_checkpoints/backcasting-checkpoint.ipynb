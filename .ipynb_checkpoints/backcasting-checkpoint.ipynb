{
 "cells": [
  {
   "cell_type": "code",
   "execution_count": 37,
   "id": "f7b43a1d-09f9-4308-9d37-5419bfb5bede",
   "metadata": {},
   "outputs": [
    {
     "name": "stdout",
     "output_type": "stream",
     "text": [
      "\u001b[32m\u001b[1m      Status\u001b[22m\u001b[39m `C:\\Users\\bhavrathod\\Documents\\technical_exercise\\Project.toml`\n",
      " \u001b[90m [a076750e] \u001b[39mCPLEX v0.9.3\n",
      " \u001b[90m [336ed68f] \u001b[39mCSV v0.10.4\n",
      " \u001b[90m [9961bab8] \u001b[39mCbc v1.0.1\n",
      " \u001b[90m [a93c6f00] \u001b[39mDataFrames v1.3.4\n",
      " \u001b[90m [87dc4568] \u001b[39mHiGHS v1.1.3\n",
      " \u001b[90m [4076af6c] \u001b[39mJuMP v1.0.0\n",
      " \u001b[90m [f0f68f2c] \u001b[39mPlotlyJS v0.18.8\n"
     ]
    }
   ],
   "source": [
    "include(\"functions.jl\")\n",
    "using Pkg, CPLEX\n",
    "Pkg.status()"
   ]
  },
  {
   "cell_type": "code",
   "execution_count": 38,
   "id": "855a52fd-cf97-446e-bee1-b88981782b87",
   "metadata": {},
   "outputs": [
    {
     "name": "stderr",
     "output_type": "stream",
     "text": [
      "┌ Info: # of rows in raw data = \n",
      "│   (size(data))[1] = 8760\n",
      "└ @ Main C:\\Users\\bhavrathod\\Documents\\technical_exercise\\functions.jl:6\n",
      "┌ Info: # of rows in daterange = \n",
      "│   (size(dr))[1] = 8760\n",
      "└ @ Main C:\\Users\\bhavrathod\\Documents\\technical_exercise\\functions.jl:10\n"
     ]
    },
    {
     "data": {
      "text/html": [
       "<div class=\"data-frame\"><p>10 rows × 4 columns</p><table class=\"data-frame\"><thead><tr><th></th><th>Timestamp</th><th>solar_cf_perkw</th><th>da_prices</th><th>rt_prices</th></tr><tr><th></th><th title=\"DateTime\">DateTime</th><th title=\"Float64\">Float64</th><th title=\"Float64\">Float64</th><th title=\"Float64\">Float64</th></tr></thead><tbody><tr><th>1</th><td>2019-01-01T00:00:00</td><td>0.0</td><td>25.57</td><td>7.14</td></tr><tr><th>2</th><td>2019-01-01T01:00:00</td><td>0.0</td><td>22.2</td><td>13.11</td></tr><tr><th>3</th><td>2019-01-01T02:00:00</td><td>0.0</td><td>18.5</td><td>22.2</td></tr><tr><th>4</th><td>2019-01-01T03:00:00</td><td>0.0</td><td>18.32</td><td>27.95</td></tr><tr><th>5</th><td>2019-01-01T04:00:00</td><td>0.0</td><td>18.56</td><td>3.48</td></tr><tr><th>6</th><td>2019-01-01T05:00:00</td><td>0.0</td><td>18.7</td><td>17.9</td></tr><tr><th>7</th><td>2019-01-01T06:00:00</td><td>0.0</td><td>21.14</td><td>13.23</td></tr><tr><th>8</th><td>2019-01-01T07:00:00</td><td>0.0465</td><td>21.2</td><td>12.92</td></tr><tr><th>9</th><td>2019-01-01T08:00:00</td><td>0.2325</td><td>23.19</td><td>2.26</td></tr><tr><th>10</th><td>2019-01-01T09:00:00</td><td>0.3999</td><td>24.99</td><td>1.56</td></tr></tbody></table></div>"
      ],
      "text/latex": [
       "\\begin{tabular}{r|cccc}\n",
       "\t& Timestamp & solar\\_cf\\_perkw & da\\_prices & rt\\_prices\\\\\n",
       "\t\\hline\n",
       "\t& DateTime & Float64 & Float64 & Float64\\\\\n",
       "\t\\hline\n",
       "\t1 & 2019-01-01T00:00:00 & 0.0 & 25.57 & 7.14 \\\\\n",
       "\t2 & 2019-01-01T01:00:00 & 0.0 & 22.2 & 13.11 \\\\\n",
       "\t3 & 2019-01-01T02:00:00 & 0.0 & 18.5 & 22.2 \\\\\n",
       "\t4 & 2019-01-01T03:00:00 & 0.0 & 18.32 & 27.95 \\\\\n",
       "\t5 & 2019-01-01T04:00:00 & 0.0 & 18.56 & 3.48 \\\\\n",
       "\t6 & 2019-01-01T05:00:00 & 0.0 & 18.7 & 17.9 \\\\\n",
       "\t7 & 2019-01-01T06:00:00 & 0.0 & 21.14 & 13.23 \\\\\n",
       "\t8 & 2019-01-01T07:00:00 & 0.0465 & 21.2 & 12.92 \\\\\n",
       "\t9 & 2019-01-01T08:00:00 & 0.2325 & 23.19 & 2.26 \\\\\n",
       "\t10 & 2019-01-01T09:00:00 & 0.3999 & 24.99 & 1.56 \\\\\n",
       "\\end{tabular}\n"
      ],
      "text/plain": [
       "\u001b[1m10×4 DataFrame\u001b[0m\n",
       "\u001b[1m Row \u001b[0m│\u001b[1m Timestamp           \u001b[0m\u001b[1m solar_cf_perkw \u001b[0m\u001b[1m da_prices \u001b[0m\u001b[1m rt_prices \u001b[0m\n",
       "\u001b[1m     \u001b[0m│\u001b[90m DateTime            \u001b[0m\u001b[90m Float64        \u001b[0m\u001b[90m Float64   \u001b[0m\u001b[90m Float64   \u001b[0m\n",
       "─────┼───────────────────────────────────────────────────────────\n",
       "   1 │ 2019-01-01T00:00:00          0.0         25.57       7.14\n",
       "   2 │ 2019-01-01T01:00:00          0.0         22.2       13.11\n",
       "   3 │ 2019-01-01T02:00:00          0.0         18.5       22.2\n",
       "   4 │ 2019-01-01T03:00:00          0.0         18.32      27.95\n",
       "   5 │ 2019-01-01T04:00:00          0.0         18.56       3.48\n",
       "   6 │ 2019-01-01T05:00:00          0.0         18.7       17.9\n",
       "   7 │ 2019-01-01T06:00:00          0.0         21.14      13.23\n",
       "   8 │ 2019-01-01T07:00:00          0.0465      21.2       12.92\n",
       "   9 │ 2019-01-01T08:00:00          0.2325      23.19       2.26\n",
       "  10 │ 2019-01-01T09:00:00          0.3999      24.99       1.56"
      ]
     },
     "execution_count": 38,
     "metadata": {},
     "output_type": "execute_result"
    }
   ],
   "source": [
    "fp = joinpath(\"inputs.csv\")\n",
    "data = read_input(fp);\n",
    "first(data, 10)"
   ]
  },
  {
   "cell_type": "markdown",
   "id": "c2a2145c-f9c7-4cb3-8850-5e19c07bffbc",
   "metadata": {},
   "source": [
    "## Calculate backcast revenues for proposed solar system\n",
    "\n",
    "**Solar system configuration**\n",
    "- Size = 300 MW\n",
    "- Inverter capacity = 250 MW\n",
    "- Capex = \\$1.35/W-DC\n",
    "\n",
    "Solar per kW CF is provided in the raw data\n",
    "\n",
    "Solar O&M and opex costs = 0.0\n",
    "\n",
    "1. We want to  minimize cost of meeting marginal energy requirement for each hour\n",
    "2. Assume two generation sources : grid and solar\n",
    "    1. Both plants can have different generation at each timestep\n",
    "3. For each timestep, supply >= demand\n",
    "4. For each timestep, solar_supply <= solar_capacity * cf\n",
    "5. grid and solar >= 0.0 for each timestep"
   ]
  },
  {
   "cell_type": "code",
   "execution_count": 39,
   "id": "243ca5b5-dec7-45cf-9480-2dd33990d9ba",
   "metadata": {},
   "outputs": [
    {
     "data": {
      "text/plain": [
       "8760"
      ]
     },
     "execution_count": 39,
     "metadata": {},
     "output_type": "execute_result"
    }
   ],
   "source": [
    "# How many timesteps do we want to analyze?\n",
    "upper_lim = 8760"
   ]
  },
  {
   "cell_type": "code",
   "execution_count": 40,
   "id": "c45dbcc4-7c08-40c7-a25f-ee14fd3ff0b6",
   "metadata": {},
   "outputs": [
    {
     "name": "stdout",
     "output_type": "stream",
     "text": [
      "[0.0 0.0 0.0 0.0 0.0; 25.57 22.2 18.5 18.32 18.56]\n",
      "Version identifier: 20.1.0.0 | 2020-11-10 | 9bedb6d68\n",
      "Parallel mode: deterministic, using up to 4 threads for concurrent optimization:\n",
      " * Starting dual Simplex on 1 thread...\n",
      " * Starting Barrier on 3 threads...\n",
      "Tried aggregator 1 time.\n",
      "LP Presolve eliminated 17520 rows and 17520 columns.\n",
      "All rows and columns eliminated.\n",
      "Presolve time = 0.00 sec. (6.04 ticks)\n",
      "\n",
      "Dual simplex solved model.\n",
      "\n"
     ]
    }
   ],
   "source": [
    "m_solar, x = solar_optimize();"
   ]
  },
  {
   "cell_type": "code",
   "execution_count": 41,
   "id": "561085f1-2d5d-4241-a78f-897ca537391a",
   "metadata": {},
   "outputs": [
    {
     "data": {
      "text/plain": [
       "1839.4190999999903"
      ]
     },
     "execution_count": 41,
     "metadata": {},
     "output_type": "execute_result"
    }
   ],
   "source": [
    "sum(value.(x[:solar, :]))"
   ]
  },
  {
   "cell_type": "code",
   "execution_count": 42,
   "id": "729a3f04-ee8e-4555-9c06-67bec3f2c4c4",
   "metadata": {},
   "outputs": [
    {
     "data": {
      "text/plain": [
       "6920.580899999963"
      ]
     },
     "execution_count": 42,
     "metadata": {},
     "output_type": "execute_result"
    }
   ],
   "source": [
    "sum(value.(x[:grid, :]))"
   ]
  },
  {
   "cell_type": "code",
   "execution_count": 43,
   "id": "ccbef141-183c-41bf-8886-9593024adcec",
   "metadata": {},
   "outputs": [
    {
     "data": {
      "text/plain": [
       "8759.999999999953"
      ]
     },
     "execution_count": 43,
     "metadata": {},
     "output_type": "execute_result"
    }
   ],
   "source": [
    "sum(value.(x[:grid, :])) + sum(value.(x[:solar, :]))"
   ]
  },
  {
   "cell_type": "code",
   "execution_count": 44,
   "id": "b72c20f9-6591-4995-8864-5295e381c286",
   "metadata": {},
   "outputs": [
    {
     "data": {
      "text/plain": [
       "198335.72169300012"
      ]
     },
     "execution_count": 44,
     "metadata": {},
     "output_type": "execute_result"
    }
   ],
   "source": [
    "objective_value(m_solar)"
   ]
  },
  {
   "cell_type": "code",
   "execution_count": 45,
   "id": "a35e41e8-6e6c-42b2-b13b-207f04be3bd3",
   "metadata": {},
   "outputs": [
    {
     "data": {
      "text/plain": [
       "50850.42830699991"
      ]
     },
     "execution_count": 45,
     "metadata": {},
     "output_type": "execute_result"
    }
   ],
   "source": [
    "sum(data.da_prices) - objective_value(m_solar)"
   ]
  },
  {
   "cell_type": "markdown",
   "id": "e6da58ce-5c12-4f09-a571-5b200d482bd6",
   "metadata": {},
   "source": [
    "## Calculate backcast revenues for proposed storage system\n",
    "\n",
    "**Solar system configuration**\n",
    "- Size = 50 MW\n",
    "- Capacity = 200 MW\n",
    "- Efficiency = 100%\n",
    "- Capex = \\$375/kWh\n",
    "\n",
    "Storage operating costs = 0.0\n",
    "\n",
    "1. We want to  minimize cost of meeting marginal energy requirement for each hour\n",
    "2. Assume two generation sources : grid and storage discharge\n",
    "    1. Both plants can have different generation at each timestep\n",
    "3. For each timestep, supply >= demand\n",
    "4. For each timestep, storage_discharge <= storage_capacity * inverter_factor\n",
    "5. grid and storage discharge >= 0.0 for each timestep"
   ]
  },
  {
   "cell_type": "code",
   "execution_count": 46,
   "id": "c84a2d50-26d2-4f6c-8e53-adc55db7c24f",
   "metadata": {},
   "outputs": [
    {
     "name": "stdout",
     "output_type": "stream",
     "text": [
      "[0.0 0.0 0.0 0.0 0.0; 25.57 22.2 18.5 18.32 18.56; 25.57 22.2 18.5 18.32 18.56]\n",
      "Version identifier: 20.1.0.0 | 2020-11-10 | 9bedb6d68\n",
      "Found incumbent of value 498372.300000 after 0.02 sec. (5.04 ticks)\n",
      "Tried aggregator 2 times.\n",
      "MIP Presolve eliminated 8761 rows and 8760 columns.\n",
      "Aggregator did 8760 substitutions.\n",
      "Reduced MIP has 35045 rows, 35040 columns, and 122640 nonzeros.\n",
      "Reduced MIP has 17520 binaries, 0 generals, 0 SOSs, and 0 indicators.\n",
      "Presolve time = 0.19 sec. (88.75 ticks)\n",
      "Probing time = 0.03 sec. (3.70 ticks)\n",
      "Tried aggregator 1 time.\n",
      "Detecting symmetries...\n",
      "Reduced MIP has 35045 rows, 35040 columns, and 122640 nonzeros.\n",
      "Reduced MIP has 17520 binaries, 0 generals, 0 SOSs, and 0 indicators.\n",
      "Presolve time = 0.34 sec. (597.78 ticks)\n",
      "Probing time = 0.05 sec. (4.41 ticks)\n",
      "Clique table members: 8760.\n",
      "MIP emphasis: balance optimality and feasibility.\n",
      "MIP search method: dynamic search.\n",
      "Parallel mode: deterministic, using up to 4 threads.\n",
      "Root relaxation solution time = 0.89 sec. (458.13 ticks)\n",
      "\n",
      "        Nodes                                         Cuts/\n",
      "   Node  Left     Objective  IInf  Best Integer    Best Bound    ItCnt     Gap\n",
      "\n",
      "*     0+    0                       498372.3000        0.0000           100.00%\n",
      "*     0     0      integral     0   176680.2224   176680.2224       55    0.00%\n",
      "Elapsed time = 1.63 sec. (1227.07 ticks, tree = 0.00 MB, solutions = 2)\n",
      "\n",
      "Root node processing (before b&c):\n",
      "  Real time             =    1.64 sec. (1229.16 ticks)\n",
      "Parallel b&c, 4 threads:\n",
      "  Real time             =    0.00 sec. (0.00 ticks)\n",
      "  Sync time (average)   =    0.00 sec.\n",
      "  Wait time (average)   =    0.00 sec.\n",
      "                          ------------\n",
      "Total (root+branch&cut) =    1.64 sec. (1229.16 ticks)\n"
     ]
    }
   ],
   "source": [
    "m_storage, a, b, c = storage_optimize();"
   ]
  },
  {
   "cell_type": "code",
   "execution_count": 47,
   "id": "0558b035-7c9f-4781-a809-08462592fe2c",
   "metadata": {},
   "outputs": [
    {
     "data": {
      "text/plain": [
       "4379.755"
      ]
     },
     "execution_count": 47,
     "metadata": {},
     "output_type": "execute_result"
    }
   ],
   "source": [
    "sum(value.(a[:stor_disch, :]))"
   ]
  },
  {
   "cell_type": "code",
   "execution_count": 48,
   "id": "4b77765f-36e8-4ef3-be5e-6916a7548589",
   "metadata": {},
   "outputs": [
    {
     "data": {
      "text/plain": [
       "4379.745"
      ]
     },
     "execution_count": 48,
     "metadata": {},
     "output_type": "execute_result"
    }
   ],
   "source": [
    "sum(value.(a[:stor_ch, :]))"
   ]
  },
  {
   "cell_type": "code",
   "execution_count": 49,
   "id": "1141f0ef-1b3a-42cf-9653-2f6e794d80e3",
   "metadata": {},
   "outputs": [
    {
     "data": {
      "text/plain": [
       "176680.22239999997"
      ]
     },
     "execution_count": 49,
     "metadata": {},
     "output_type": "execute_result"
    }
   ],
   "source": [
    "objective_value(m_storage)"
   ]
  },
  {
   "cell_type": "code",
   "execution_count": 50,
   "id": "c938fc63-4548-49c3-8737-210585d738fe",
   "metadata": {},
   "outputs": [
    {
     "data": {
      "text/plain": [
       "4379.755"
      ]
     },
     "execution_count": 50,
     "metadata": {},
     "output_type": "execute_result"
    }
   ],
   "source": [
    "sum(value.(b[:bess_mwh, :]))"
   ]
  },
  {
   "cell_type": "code",
   "execution_count": 52,
   "id": "cff6ff2a-e3cb-426b-8fa9-ec7651558e5d",
   "metadata": {},
   "outputs": [
    {
     "name": "stdout",
     "output_type": "stream",
     "text": [
      "[0.0 0.0 0.0 0.0 0.0; 0.0 0.0 0.0 0.0 0.0; 25.57 22.2 18.5 18.32 18.56; 25.57 22.2 18.5 18.32 18.56]\n",
      "Version identifier: 20.1.0.0 | 2020-11-10 | 9bedb6d68\n",
      "Found incumbent of value 447521.871693 after 0.02 sec. (6.01 ticks)\n",
      "Tried aggregator 2 times.\n",
      "MIP Presolve eliminated 13098 rows and 13097 columns.\n",
      "Aggregator did 8760 substitutions.\n",
      "Reduced MIP has 39468 rows, 39463 columns, and 131486 nonzeros.\n",
      "Reduced MIP has 17520 binaries, 0 generals, 0 SOSs, and 0 indicators.\n",
      "Presolve time = 0.27 sec. (99.76 ticks)\n",
      "Probing time = 0.03 sec. (4.01 ticks)\n",
      "Tried aggregator 1 time.\n",
      "MIP Presolve eliminated 4929 rows and 4423 columns.\n",
      "MIP Presolve modified 7834 coefficients.\n",
      "Reduced MIP has 34539 rows, 35040 columns, and 121628 nonzeros.\n",
      "Reduced MIP has 17520 binaries, 0 generals, 0 SOSs, and 0 indicators.\n",
      "Presolve time = 0.08 sec. (54.53 ticks)\n",
      "Probing time = 0.03 sec. (3.66 ticks)\n",
      "Tried aggregator 1 time.\n",
      "Detecting symmetries...\n",
      "Reduced MIP has 34539 rows, 35040 columns, and 121628 nonzeros.\n",
      "Reduced MIP has 17520 binaries, 0 generals, 0 SOSs, and 0 indicators.\n",
      "Presolve time = 0.20 sec. (243.25 ticks)\n",
      "Probing time = 0.05 sec. (4.37 ticks)\n",
      "Clique table members: 8760.\n",
      "MIP emphasis: balance optimality and feasibility.\n",
      "MIP search method: dynamic search.\n",
      "Parallel mode: deterministic, using up to 4 threads.\n",
      "Root relaxation solution time = 1.24 sec. (557.50 ticks)\n",
      "\n",
      "        Nodes                                         Cuts/\n",
      "   Node  Left     Objective  IInf  Best Integer    Best Bound    ItCnt     Gap\n",
      "\n",
      "*     0+    0                       447521.8717        0.0000           100.00%\n",
      "*     0     0      integral     0   137909.3274   137909.3274       30    0.00%\n",
      "Elapsed time = 2.11 sec. (1069.37 ticks, tree = 0.00 MB, solutions = 2)\n",
      "\n",
      "Root node processing (before b&c):\n",
      "  Real time             =    2.13 sec. (1072.39 ticks)\n",
      "Parallel b&c, 4 threads:\n",
      "  Real time             =    0.00 sec. (0.00 ticks)\n",
      "  Sync time (average)   =    0.00 sec.\n",
      "  Wait time (average)   =    0.00 sec.\n",
      "                          ------------\n",
      "Total (root+branch&cut) =    2.13 sec. (1072.39 ticks)\n"
     ]
    },
    {
     "data": {
      "text/plain": [
       "137909.32744299993"
      ]
     },
     "execution_count": 52,
     "metadata": {},
     "output_type": "execute_result"
    }
   ],
   "source": [
    "m_both, k, l, m = solar_storage();\n",
    "objective_value(m_both)"
   ]
  },
  {
   "cell_type": "code",
   "execution_count": 53,
   "id": "302545ad-3ce5-4576-89d1-2cb43566b520",
   "metadata": {},
   "outputs": [
    {
     "data": {
      "text/plain": [
       "3517.2441999999955"
      ]
     },
     "execution_count": 53,
     "metadata": {},
     "output_type": "execute_result"
    }
   ],
   "source": [
    "sum(value.(k[:stor_disch, :]))"
   ]
  },
  {
   "cell_type": "code",
   "execution_count": 55,
   "id": "d28da34a-9877-4152-98e4-cf8c2f3a66a4",
   "metadata": {},
   "outputs": [
    {
     "data": {
      "text/plain": [
       "3517.234199999998"
      ]
     },
     "execution_count": 55,
     "metadata": {},
     "output_type": "execute_result"
    }
   ],
   "source": [
    "sum(value.(k[:stor_ch, :]))"
   ]
  },
  {
   "cell_type": "code",
   "execution_count": 56,
   "id": "72da2cd9-50ad-46be-b845-63712f7afc06",
   "metadata": {},
   "outputs": [
    {
     "data": {
      "text/plain": [
       "249186.15000000002"
      ]
     },
     "execution_count": 56,
     "metadata": {},
     "output_type": "execute_result"
    }
   ],
   "source": [
    "sum(data.da_prices)"
   ]
  },
  {
   "cell_type": "code",
   "execution_count": null,
   "id": "a3b8fcbf-132d-4ec3-8a39-16fe47c5f64e",
   "metadata": {},
   "outputs": [],
   "source": []
  },
  {
   "cell_type": "code",
   "execution_count": null,
   "id": "9d9e8cd8-78b1-450c-8535-33218dfd8b11",
   "metadata": {},
   "outputs": [],
   "source": []
  },
  {
   "cell_type": "code",
   "execution_count": null,
   "id": "2be0fa35-7973-45f5-a013-05464cc57cf0",
   "metadata": {},
   "outputs": [],
   "source": []
  },
  {
   "cell_type": "code",
   "execution_count": null,
   "id": "973ab276-6576-4732-9eb2-8c2b29b35cc1",
   "metadata": {},
   "outputs": [],
   "source": []
  },
  {
   "cell_type": "code",
   "execution_count": null,
   "id": "2fe1e54b-ad38-4eca-9643-9918a0f948b0",
   "metadata": {},
   "outputs": [],
   "source": []
  },
  {
   "cell_type": "code",
   "execution_count": null,
   "id": "eaa83dcb-168c-4022-805d-cf07ffb995f6",
   "metadata": {},
   "outputs": [],
   "source": []
  },
  {
   "cell_type": "code",
   "execution_count": null,
   "id": "f7cf7ff4-4e44-416e-9d7a-99e02a819976",
   "metadata": {},
   "outputs": [],
   "source": []
  },
  {
   "cell_type": "code",
   "execution_count": null,
   "id": "5d794425-6faa-4c6d-af9a-f464aa0f463d",
   "metadata": {},
   "outputs": [],
   "source": []
  },
  {
   "cell_type": "code",
   "execution_count": null,
   "id": "58026a9f-981d-40ba-aa74-e52eb757801f",
   "metadata": {},
   "outputs": [],
   "source": []
  },
  {
   "cell_type": "code",
   "execution_count": null,
   "id": "8cda5649-fcdc-4f07-92d7-a0083e27af32",
   "metadata": {},
   "outputs": [],
   "source": []
  },
  {
   "cell_type": "code",
   "execution_count": null,
   "id": "38884e78-a7cb-42e8-84a5-79818fb9ccc2",
   "metadata": {},
   "outputs": [],
   "source": []
  },
  {
   "cell_type": "code",
   "execution_count": null,
   "id": "06abe71a-9f25-4aab-b207-abb5005233a2",
   "metadata": {},
   "outputs": [],
   "source": []
  },
  {
   "cell_type": "code",
   "execution_count": null,
   "id": "e22cf0d8-2844-42bf-8c1d-951485d971f0",
   "metadata": {},
   "outputs": [],
   "source": []
  },
  {
   "cell_type": "code",
   "execution_count": null,
   "id": "36437378-f4df-4262-b8d3-0dea6abf73fb",
   "metadata": {},
   "outputs": [],
   "source": []
  },
  {
   "cell_type": "code",
   "execution_count": null,
   "id": "2e4123f3-bbab-4735-b4c7-9e7bbe1fbca5",
   "metadata": {},
   "outputs": [],
   "source": []
  },
  {
   "cell_type": "code",
   "execution_count": null,
   "id": "e5358627-60f6-44db-b6dc-49949776d6d1",
   "metadata": {},
   "outputs": [],
   "source": []
  },
  {
   "cell_type": "code",
   "execution_count": null,
   "id": "84413721-38a9-4231-87f1-7e88d5785000",
   "metadata": {},
   "outputs": [],
   "source": []
  },
  {
   "cell_type": "code",
   "execution_count": null,
   "id": "5f1cd8e9-3b01-41fe-b9f8-393a082e3dfc",
   "metadata": {},
   "outputs": [],
   "source": []
  },
  {
   "cell_type": "code",
   "execution_count": null,
   "id": "50114c46-6aa3-4fdc-a66e-464abdf7b1b2",
   "metadata": {},
   "outputs": [],
   "source": []
  },
  {
   "cell_type": "code",
   "execution_count": null,
   "id": "a2c9f5bb-0889-4ab1-9fe1-8a31f543877b",
   "metadata": {},
   "outputs": [],
   "source": []
  },
  {
   "cell_type": "code",
   "execution_count": null,
   "id": "69b533ba-e24b-46ae-82cb-cd0ad52ed46e",
   "metadata": {},
   "outputs": [],
   "source": []
  },
  {
   "cell_type": "code",
   "execution_count": null,
   "id": "a87d80c0-fe7e-4903-9a05-785f2bc08b7f",
   "metadata": {},
   "outputs": [],
   "source": []
  },
  {
   "cell_type": "code",
   "execution_count": null,
   "id": "f611213d-7105-430b-aba5-cdb7129d208c",
   "metadata": {},
   "outputs": [],
   "source": []
  }
 ],
 "metadata": {
  "kernelspec": {
   "display_name": "Julia 1.6.3",
   "language": "julia",
   "name": "julia-1.6"
  },
  "language_info": {
   "file_extension": ".jl",
   "mimetype": "application/julia",
   "name": "julia",
   "version": "1.6.3"
  }
 },
 "nbformat": 4,
 "nbformat_minor": 5
}
