{
 "cells": [
  {
   "cell_type": "code",
   "execution_count": 1,
   "id": "6161cddd-e7dc-4705-8b50-1407548b4ce2",
   "metadata": {},
   "outputs": [
    {
     "name": "stdout",
     "output_type": "stream",
     "text": [
      "\u001b[32m\u001b[1m      Status\u001b[22m\u001b[39m `C:\\Users\\bhavrathod\\Documents\\GitHub\\nyc_analysis\\Project.toml`\n",
      " \u001b[90m [a076750e] \u001b[39mCPLEX v0.9.3\n",
      " \u001b[90m [336ed68f] \u001b[39mCSV v0.10.4\n",
      " \u001b[90m [9961bab8] \u001b[39mCbc v1.0.1\n",
      " \u001b[90m [a93c6f00] \u001b[39mDataFrames v1.3.4\n",
      " \u001b[90m [87dc4568] \u001b[39mHiGHS v1.1.3\n",
      " \u001b[90m [4076af6c] \u001b[39mJuMP v1.0.0\n",
      " \u001b[90m [f0f68f2c] \u001b[39mPlotlyJS v0.18.8\n"
     ]
    }
   ],
   "source": [
    "using Pkg\n",
    "include(\"functions.jl\")\n",
    "Pkg.status()"
   ]
  },
  {
   "cell_type": "code",
   "execution_count": 2,
   "id": "9fd3af95-0992-4e7d-af62-4becd680ffc6",
   "metadata": {},
   "outputs": [
    {
     "name": "stderr",
     "output_type": "stream",
     "text": [
      "┌ Info: # of rows in raw data = \n",
      "│   (size(data))[1] = 8760\n",
      "└ @ Main C:\\Users\\bhavrathod\\Documents\\GitHub\\nyc_analysis\\functions.jl:6\n",
      "┌ Info: # of rows in daterange = \n",
      "│   (size(dr))[1] = 8760\n",
      "└ @ Main C:\\Users\\bhavrathod\\Documents\\GitHub\\nyc_analysis\\functions.jl:10\n"
     ]
    },
    {
     "data": {
      "text/html": [
       "<div class=\"data-frame\"><p>10 rows × 4 columns</p><table class=\"data-frame\"><thead><tr><th></th><th>Timestamp</th><th>solar_cf_perkw</th><th>da_prices</th><th>rt_prices</th></tr><tr><th></th><th title=\"DateTime\">DateTime</th><th title=\"Float64\">Float64</th><th title=\"Float64\">Float64</th><th title=\"Float64\">Float64</th></tr></thead><tbody><tr><th>1</th><td>2019-01-01T00:00:00</td><td>0.0</td><td>25.57</td><td>7.14</td></tr><tr><th>2</th><td>2019-01-01T01:00:00</td><td>0.0</td><td>22.2</td><td>13.11</td></tr><tr><th>3</th><td>2019-01-01T02:00:00</td><td>0.0</td><td>18.5</td><td>22.2</td></tr><tr><th>4</th><td>2019-01-01T03:00:00</td><td>0.0</td><td>18.32</td><td>27.95</td></tr><tr><th>5</th><td>2019-01-01T04:00:00</td><td>0.0</td><td>18.56</td><td>3.48</td></tr><tr><th>6</th><td>2019-01-01T05:00:00</td><td>0.0</td><td>18.7</td><td>17.9</td></tr><tr><th>7</th><td>2019-01-01T06:00:00</td><td>0.0</td><td>21.14</td><td>13.23</td></tr><tr><th>8</th><td>2019-01-01T07:00:00</td><td>0.0465</td><td>21.2</td><td>12.92</td></tr><tr><th>9</th><td>2019-01-01T08:00:00</td><td>0.2325</td><td>23.19</td><td>2.26</td></tr><tr><th>10</th><td>2019-01-01T09:00:00</td><td>0.3999</td><td>24.99</td><td>1.56</td></tr></tbody></table></div>"
      ],
      "text/latex": [
       "\\begin{tabular}{r|cccc}\n",
       "\t& Timestamp & solar\\_cf\\_perkw & da\\_prices & rt\\_prices\\\\\n",
       "\t\\hline\n",
       "\t& DateTime & Float64 & Float64 & Float64\\\\\n",
       "\t\\hline\n",
       "\t1 & 2019-01-01T00:00:00 & 0.0 & 25.57 & 7.14 \\\\\n",
       "\t2 & 2019-01-01T01:00:00 & 0.0 & 22.2 & 13.11 \\\\\n",
       "\t3 & 2019-01-01T02:00:00 & 0.0 & 18.5 & 22.2 \\\\\n",
       "\t4 & 2019-01-01T03:00:00 & 0.0 & 18.32 & 27.95 \\\\\n",
       "\t5 & 2019-01-01T04:00:00 & 0.0 & 18.56 & 3.48 \\\\\n",
       "\t6 & 2019-01-01T05:00:00 & 0.0 & 18.7 & 17.9 \\\\\n",
       "\t7 & 2019-01-01T06:00:00 & 0.0 & 21.14 & 13.23 \\\\\n",
       "\t8 & 2019-01-01T07:00:00 & 0.0465 & 21.2 & 12.92 \\\\\n",
       "\t9 & 2019-01-01T08:00:00 & 0.2325 & 23.19 & 2.26 \\\\\n",
       "\t10 & 2019-01-01T09:00:00 & 0.3999 & 24.99 & 1.56 \\\\\n",
       "\\end{tabular}\n"
      ],
      "text/plain": [
       "\u001b[1m10×4 DataFrame\u001b[0m\n",
       "\u001b[1m Row \u001b[0m│\u001b[1m Timestamp           \u001b[0m\u001b[1m solar_cf_perkw \u001b[0m\u001b[1m da_prices \u001b[0m\u001b[1m rt_prices \u001b[0m\n",
       "\u001b[1m     \u001b[0m│\u001b[90m DateTime            \u001b[0m\u001b[90m Float64        \u001b[0m\u001b[90m Float64   \u001b[0m\u001b[90m Float64   \u001b[0m\n",
       "─────┼───────────────────────────────────────────────────────────\n",
       "   1 │ 2019-01-01T00:00:00          0.0         25.57       7.14\n",
       "   2 │ 2019-01-01T01:00:00          0.0         22.2       13.11\n",
       "   3 │ 2019-01-01T02:00:00          0.0         18.5       22.2\n",
       "   4 │ 2019-01-01T03:00:00          0.0         18.32      27.95\n",
       "   5 │ 2019-01-01T04:00:00          0.0         18.56       3.48\n",
       "   6 │ 2019-01-01T05:00:00          0.0         18.7       17.9\n",
       "   7 │ 2019-01-01T06:00:00          0.0         21.14      13.23\n",
       "   8 │ 2019-01-01T07:00:00          0.0465      21.2       12.92\n",
       "   9 │ 2019-01-01T08:00:00          0.2325      23.19       2.26\n",
       "  10 │ 2019-01-01T09:00:00          0.3999      24.99       1.56"
      ]
     },
     "execution_count": 2,
     "metadata": {},
     "output_type": "execute_result"
    }
   ],
   "source": [
    "fp = joinpath(\"inputs.csv\")\n",
    "data = read_input(fp);\n",
    "first(data, 10)"
   ]
  },
  {
   "cell_type": "markdown",
   "id": "6d6cb8ed-d399-4979-9108-c68369aa4912",
   "metadata": {},
   "source": [
    "#### Find monthly average of day-ahead prices for 2019"
   ]
  },
  {
   "cell_type": "code",
   "execution_count": 3,
   "id": "7fe8d563-90ab-40fc-b3d8-6c5e577d2791",
   "metadata": {},
   "outputs": [],
   "source": [
    "monthly_da_averages = []\n",
    "for m in 1:12\n",
    "    tempdf = filter(row -> Dates.Month(row.Timestamp) == Dates.Month(m), data)\n",
    "    push!(monthly_da_averages, sum(tempdf.da_prices)/size(tempdf)[1])\n",
    "end"
   ]
  },
  {
   "cell_type": "code",
   "execution_count": 4,
   "id": "6f6e53b1-f1fa-43bb-b9b2-36402492d394",
   "metadata": {},
   "outputs": [
    {
     "data": {
      "text/plain": [
       "12-element Vector{Float64}:\n",
       " 51.225\n",
       " 33.574\n",
       " 31.775\n",
       " 26.7\n",
       " 22.865\n",
       " 23.316\n",
       " 31.446\n",
       " 28.035\n",
       " 21.78\n",
       " 20.163\n",
       " 25.481\n",
       " 24.955"
      ]
     },
     "execution_count": 4,
     "metadata": {},
     "output_type": "execute_result"
    }
   ],
   "source": [
    "round.(monthly_da_averages, digits = 3)"
   ]
  },
  {
   "cell_type": "code",
   "execution_count": null,
   "id": "09ee6761-592c-49f2-9ed2-2f245b461c1e",
   "metadata": {},
   "outputs": [],
   "source": []
  }
 ],
 "metadata": {
  "kernelspec": {
   "display_name": "Julia 1.6.3",
   "language": "julia",
   "name": "julia-1.6"
  },
  "language_info": {
   "file_extension": ".jl",
   "mimetype": "application/julia",
   "name": "julia",
   "version": "1.6.3"
  }
 },
 "nbformat": 4,
 "nbformat_minor": 5
}
